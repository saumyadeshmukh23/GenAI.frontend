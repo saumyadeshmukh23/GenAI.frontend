{
  "nbformat": 4,
  "nbformat_minor": 0,
  "metadata": {
    "colab": {
      "provenance": [],
      "authorship_tag": "ABX9TyObfGoZpTFOfw1/tq0+DiQX",
      "include_colab_link": true
    },
    "kernelspec": {
      "name": "python3",
      "display_name": "Python 3"
    },
    "language_info": {
      "name": "python"
    }
  },
  "cells": [
    {
      "cell_type": "markdown",
      "metadata": {
        "id": "view-in-github",
        "colab_type": "text"
      },
      "source": [
        "<a href=\"https://colab.research.google.com/github/saumyadeshmukh23/GenAI.frontend/blob/main/GenAI_Asg4.ipynb\" target=\"_parent\"><img src=\"https://colab.research.google.com/assets/colab-badge.svg\" alt=\"Open In Colab\"/></a>"
      ]
    },
    {
      "cell_type": "code",
      "execution_count": 2,
      "metadata": {
        "id": "Ea2Rbq22dcDZ"
      },
      "outputs": [],
      "source": [
        "import spacy\n",
        "import re"
      ]
    },
    {
      "cell_type": "code",
      "source": [
        "# Load the English language model in spaCy\n",
        "nlp = spacy.load(\"en_core_web_sm\")"
      ],
      "metadata": {
        "id": "_TlIH5Umdn7p"
      },
      "execution_count": 3,
      "outputs": []
    },
    {
      "cell_type": "code",
      "source": [
        "def extract_entities(text):\n",
        "    # Process the text using spaCy NLP pipeline\n",
        "    doc = nlp(text)\n",
        "\n",
        "    # Initialize lists to store names, dates, and places\n",
        "    names = []\n",
        "    dates = []\n",
        "    places = []\n",
        "\n",
        "    # 1. Extract names and places using spaCy's Named Entity Recognition (NER)\n",
        "    for ent in doc.ents:\n",
        "        if ent.label_ == \"PERSON\":   # Recognize 'PERSON' entities for names\n",
        "            names.append(ent.text)\n",
        "        elif ent.label_ in [\"GPE\", \"LOC\"]:  # GPE: Countries, cities, states | LOC: General locations\n",
        "            places.append(ent.text)\n",
        "\n",
        "    # 2. Extract dates using regular expressions\n",
        "    # Look for date patterns like \"20th Oct 2024\", \"2024-10-25\", \"10/20/2023\"\n",
        "    date_patterns = [\n",
        "        r\"\\b(?:\\d{1,2}(?:st|nd|rd|th)?(?:\\s|-)?(?:Jan(?:uary)?|Feb(?:ruary)?|Mar(?:ch)?|Apr(?:il)?|May|Jun(?:e)?|Jul(?:y)?|Aug(?:ust)?|Sep(?:tember)?|Oct(?:ober)?|Nov(?:ember)?|Dec(?:ember)?)(?:\\s|-)?\\d{4})\\b\",\n",
        "        r\"\\b(?:\\d{1,2}/\\d{1,2}/\\d{4})\\b\",\n",
        "        r\"\\b(?:\\d{4}-\\d{2}-\\d{2})\\b\"\n",
        "    ]\n",
        "\n",
        "    for pattern in date_patterns:\n",
        "        matches = re.findall(pattern, text)\n",
        "        dates.extend(matches)\n",
        "\n",
        "    # Create a dictionary with extracted names, dates, and places\n",
        "    entity_dict = {\n",
        "        \"Names\": list(set(names)),  # Remove duplicates\n",
        "        \"Dates\": list(set(dates)),\n",
        "        \"Places\": list(set(places))\n",
        "    }\n",
        "\n",
        "    return entity_dict"
      ],
      "metadata": {
        "id": "tlXPfnX3dqjB"
      },
      "execution_count": 4,
      "outputs": []
    },
    {
      "cell_type": "code",
      "source": [
        "# Sample document for extraction\n",
        "sample_text = \"\"\"\n",
        "John Doe met with Sarah Connor in New York on 20th Oct 2024.\n",
        "They planned to visit Los Angeles on 2024-10-25 and attend a conference in Paris.\n",
        "The contract was signed on 10/20/2023.\n",
        "\"\"\"\n",
        "\n",
        "# Call the function and print the extracted dictionary\n",
        "result = extract_entities(sample_text)\n",
        "print(result)"
      ],
      "metadata": {
        "colab": {
          "base_uri": "https://localhost:8080/"
        },
        "id": "gkbxBjakdsCh",
        "outputId": "f118ff6a-fb4d-406b-c6c9-b5177a9b7c18"
      },
      "execution_count": 5,
      "outputs": [
        {
          "output_type": "stream",
          "name": "stdout",
          "text": [
            "{'Names': ['Sarah Connor', 'John Doe'], 'Dates': ['10/20/2023', '2024-10-25', '20th Oct 2024'], 'Places': ['Paris', 'Los Angeles', 'New York']}\n"
          ]
        }
      ]
    }
  ]
}